{
 "cells": [
  {
   "cell_type": "code",
   "execution_count": null,
   "metadata": {},
   "outputs": [],
   "source": [
    "import os\n",
    "import cv2\n",
    "import sys\n",
    "import numpy as np\n",
    "import matplotlib.pyplot as plt\n",
    "import matplotlib.patches as patches\n",
    "import ipywidgets as widgets\n",
    "from ipywidgets import interact, fixed\n",
    " \n",
    "sys.path.append('..')\n",
    "\n",
    "from TuningMethods.functions import aligner, matchers\n",
    "\n",
    "%load_ext autoreload\n",
    "%autoreload 2"
   ]
  },
  {
   "cell_type": "code",
   "execution_count": null,
   "metadata": {},
   "outputs": [],
   "source": [
    "valid_name = '../tests/imgs/1/valid.png'\n",
    "defected_name = '../tests/imgs/1/defect.png'\n",
    "\n",
    "valid = cv2.imread(valid_name, 0)\n",
    "defected = cv2.imread(defected_name, 0)\n",
    "\n",
    "valid = cv2.equalizeHist(valid)\n",
    "defected = cv2.equalizeHist(defected)\n",
    "\n",
    "print(valid.shape)\n",
    "print(defected.shape)\n",
    "\n",
    "fig, ax = plt.subplots(1, 2, figsize = (15,15))\n",
    "ax[0].imshow(valid, cmap='gray');\n",
    "ax[1].imshow(defected, cmap='gray');"
   ]
  },
  {
   "cell_type": "markdown",
   "metadata": {},
   "source": [
    "### Modified `aligner` function with different types of matchers"
   ]
  },
  {
   "cell_type": "code",
   "execution_count": null,
   "metadata": {},
   "outputs": [],
   "source": [
    "interact(\n",
    "    aligner, \n",
    "    template=fixed(valid), \n",
    "    img=fixed(defected), \n",
    "    max_features=widgets.IntSlider(min=10, max=500, step=10, value=250), \n",
    "    good_match_percent=widgets.FloatSlider(min=0.1, max=1.0, step=0.1, value=0.8), \n",
    "    keypoints_dict=fixed({}),\n",
    "    template_id=fixed(1), \n",
    "    matcher_name=matchers.keys(),\n",
    "    plot_result=fixed(True));"
   ]
  },
  {
   "cell_type": "markdown",
   "metadata": {},
   "source": [
    "### Visualize all available matchers"
   ]
  },
  {
   "cell_type": "code",
   "execution_count": null,
   "metadata": {},
   "outputs": [],
   "source": [
    "DIR = 3\n",
    "\n",
    "valid_name = '../tests/imgs/{}/valid.png'.format(DIR)\n",
    "defected_name = '../tests/imgs/{}/defect.png'.format(DIR)\n",
    "\n",
    "valid = cv2.imread(valid_name, 0)\n",
    "defected = cv2.imread(defected_name, 0)\n",
    "\n",
    "valid = cv2.equalizeHist(valid)\n",
    "defected = cv2.equalizeHist(defected)\n",
    "\n",
    "for matcher_name in matchers.keys():           \n",
    "    result, _ = aligner(valid, defected, matcher_name=matcher_name, plot_keypoints=True)\n",
    "\n",
    "    plt.figure(figsize=(10, 10))\n",
    "    plt.axis('off')\n",
    "    plt.subplot(1, 2, 1)\n",
    "    plt.imshow(valid, cmap='gray')\n",
    "    plt.subplot(1, 2, 2)\n",
    "    plt.imshow(result, cmap='gray')\n"
   ]
  },
  {
   "cell_type": "markdown",
   "metadata": {},
   "source": []
  }
 ],
 "metadata": {
  "kernelspec": {
   "display_name": "Python 3.9.13 ('shop4cf')",
   "language": "python",
   "name": "python3"
  },
  "language_info": {
   "codemirror_mode": {
    "name": "ipython",
    "version": 3
   },
   "file_extension": ".py",
   "mimetype": "text/x-python",
   "name": "python",
   "nbconvert_exporter": "python",
   "pygments_lexer": "ipython3",
   "version": "3.9.13"
  },
  "orig_nbformat": 4,
  "vscode": {
   "interpreter": {
    "hash": "0ffc0ac5bd0ab793ddfff801997fec9146750012e276b5e5feb161623a231487"
   }
  }
 },
 "nbformat": 4,
 "nbformat_minor": 2
}
